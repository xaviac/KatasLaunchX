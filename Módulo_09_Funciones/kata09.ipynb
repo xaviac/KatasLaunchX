{
 "cells": [
  {
   "cell_type": "code",
   "execution_count": 53,
   "metadata": {},
   "outputs": [],
   "source": [
    "# Función para leer 3 tanques de combustible y muestre el promedio\n",
    "\n",
    "def report(tank1, tank2, tank3):\n",
    "    average = (tank1+tank2+tank3)/3\n",
    "    return f\"\"\"\n",
    "    Fuel report:\n",
    "    Total Average: {average}%\n",
    "    First Tank: {tank1}%\n",
    "    Second Tank: {tank2}%\n",
    "    Third Tank: {tank3}%\"\"\""
   ]
  },
  {
   "cell_type": "code",
   "execution_count": 54,
   "metadata": {},
   "outputs": [
    {
     "name": "stdout",
     "output_type": "stream",
     "text": [
      "\n",
      "    Fuel report:\n",
      "    Total Average: 81.66666666666667%\n",
      "    First Tank: 50%\n",
      "    Second Tank: 100%\n",
      "    Third Tank: 95%\n"
     ]
    }
   ],
   "source": [
    "# Llamamos a la función que genera el reporte print(funcion(tanque1, tanque2, tanque3))\n",
    "print(report(50,100,95))"
   ]
  },
  {
   "cell_type": "code",
   "execution_count": 26,
   "metadata": {},
   "outputs": [
    {
     "data": {
      "text/plain": [
       "70.33333333333333"
      ]
     },
     "execution_count": 26,
     "metadata": {},
     "output_type": "execute_result"
    }
   ],
   "source": [
    "# Función promedio \n",
    "\n",
    "def average(values):\n",
    "    total = sum(values)\n",
    "    items = len(values)\n",
    "    return total / items\n",
    "\n",
    "average([50,63,98])"
   ]
  },
  {
   "cell_type": "code",
   "execution_count": 52,
   "metadata": {},
   "outputs": [
    {
     "name": "stdout",
     "output_type": "stream",
     "text": [
      "\n",
      "    Fuel report:\n",
      "    Total Average: 76.66666666666667%\n",
      "    First Tank: 90%\n",
      "    Second Tank: 60%\n",
      "    Third Tank: 80%\n"
     ]
    }
   ],
   "source": [
    "def report(tank1, tank2, tank3):    \n",
    "    return f\"\"\"\n",
    "    Fuel report:\n",
    "    Total Average: {average([tank1,tank2,tank3])}%\n",
    "    First Tank: {tank1}%\n",
    "    Second Tank: {tank2}%\n",
    "    Third Tank: {tank3}%\"\"\"\n",
    "\n",
    "print(report(90,60,80))"
   ]
  },
  {
   "cell_type": "code",
   "execution_count": 47,
   "metadata": {},
   "outputs": [
    {
     "name": "stdout",
     "output_type": "stream",
     "text": [
      "\n",
      "    Mission to Mars\n",
      "    Total travel time: 32 minutes\n",
      "    Total fuel left: 100.0%\n"
     ]
    }
   ],
   "source": [
    "# Función con un informe preciso de la misión. Considera hora de prelanzamiento, tiempo de vuelo, destino, tanque externo y tanque interno\n",
    "def report(launch_time, flight_time, destination, external_tank, inter_tank):\n",
    "    return f\"\"\"\n",
    "    Mission to {destination}\n",
    "    Total travel time: {launch_time + flight_time} minutes\n",
    "    Total fuel left: {average([external_tank,inter_tank])}%\"\"\"\n",
    "\n",
    "print(report(7, 25, 'Mars', 100, 100))"
   ]
  },
  {
   "cell_type": "code",
   "execution_count": 46,
   "metadata": {},
   "outputs": [
    {
     "name": "stdout",
     "output_type": "stream",
     "text": [
      "\n",
      "    Mission to Jupiter\n",
      "    Total travel time: 69 minutes\n",
      "    Total fuel left: 100.0%\n"
     ]
    }
   ],
   "source": [
    "# Escribe tu nueva función de reporte considerando lo anterior\n",
    "def report(destination, *minutes, **fuel_reservoirs):\n",
    "    return f\"\"\"\n",
    "    Mission to {destination}\n",
    "    Total travel time: {sum(minutes)} minutes\n",
    "    Total fuel left: {average(fuel_reservoirs.values())}%\"\"\"\n",
    "\n",
    "print(report('Jupiter', 29, 40, inter=100, external=100))"
   ]
  },
  {
   "cell_type": "code",
   "execution_count": 51,
   "metadata": {},
   "outputs": [
    {
     "name": "stdout",
     "output_type": "stream",
     "text": [
      "\n",
      "    Mission to Jupiter\n",
      "    Total travel time: 76 minutes\n",
      "    Total fuel left: 100.0%\n",
      "    Inter tank: 100%\n",
      "External tank: 100%\n",
      "\n"
     ]
    }
   ],
   "source": [
    "# Escribe tu nueva función\n",
    "def report(destination, *minutes, **fuel_reservoirs):\n",
    "    main_report = f\"\"\"\n",
    "    Mission to {destination}\n",
    "    Total travel time: {sum(minutes)} minutes\n",
    "    Total fuel left: {average(fuel_reservoirs.values())}%\n",
    "    \"\"\"\n",
    "    for tank_name, percent in fuel_reservoirs.items():\n",
    "        main_report += f\"{tank_name.capitalize()} tank: {percent}%\\n\"\n",
    "    return main_report\n",
    "\n",
    "print(report('Jupiter', 25, 51, inter=100, external=100))"
   ]
  }
 ],
 "metadata": {
  "interpreter": {
   "hash": "57e20b02525b129d2f379a8b64eb897bd057ce6c51907dd6e6ea43d3d0532e53"
  },
  "kernelspec": {
   "display_name": "Python 3.10.0 64-bit",
   "language": "python",
   "name": "python3"
  },
  "language_info": {
   "codemirror_mode": {
    "name": "ipython",
    "version": 3
   },
   "file_extension": ".py",
   "mimetype": "text/x-python",
   "name": "python",
   "nbconvert_exporter": "python",
   "pygments_lexer": "ipython3",
   "version": "3.10.0"
  },
  "orig_nbformat": 4
 },
 "nbformat": 4,
 "nbformat_minor": 2
}
