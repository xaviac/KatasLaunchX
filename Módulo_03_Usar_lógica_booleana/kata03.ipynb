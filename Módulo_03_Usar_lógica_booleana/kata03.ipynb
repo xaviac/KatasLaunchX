{
 "cells": [
  {
   "cell_type": "markdown",
   "metadata": {},
   "source": [
    "##### Un asteroide se acerca, y viaja a una velocidad de 49 km/s."
   ]
  },
  {
   "cell_type": "code",
   "execution_count": null,
   "metadata": {},
   "outputs": [],
   "source": [
    "# Añadir el código necesario para crear una variable que guarde la velocidad del asteroide.\n",
    "# Escribe una expresión de prueba para calcular si necesita una advertencia.\n",
    "# Agregue las instrucciones que se ejecutarán si la expresión de prueba es true o false."
   ]
  },
  {
   "cell_type": "code",
   "execution_count": 1,
   "metadata": {},
   "outputs": [
    {
     "name": "stdout",
     "output_type": "stream",
     "text": [
      "Alerta! Se aproxima un asteroide demasiado rápido a la Tierra a una velocidad de 49km/s\n"
     ]
    }
   ],
   "source": [
    "velAsteroide = 49\n",
    "\n",
    "if velAsteroide > 25:\n",
    "    print(\"Alerta! Se aproxima un asteroide demasiado rápido a la Tierra a una velocidad de \" + str(velAsteroide) + \"km/s\")"
   ]
  },
  {
   "cell_type": "code",
   "execution_count": 2,
   "metadata": {},
   "outputs": [
    {
     "name": "stdout",
     "output_type": "stream",
     "text": [
      "Alerta! Se aproxima un asteroide demasiado rápido a la Tierra a una velocidad de 49 km/s\n"
     ]
    }
   ],
   "source": [
    "velAsteroide = 49\n",
    "\n",
    "if velAsteroide > 25:\n",
    "    print(\"Alerta! Se aproxima un asteroide demasiado rápido a la Tierra a una velocidad de \" + str(velAsteroide) + \" km/s\")"
   ]
  },
  {
   "cell_type": "markdown",
   "metadata": {},
   "source": [
    "##### ¡Hay uno que se dirige a la tierra ahora a una velocidad de 19 km/s!"
   ]
  },
  {
   "cell_type": "code",
   "execution_count": null,
   "metadata": {},
   "outputs": [],
   "source": [
    "# Agrega el código para crear una variable para un asteroide que viaja a 19 km/s\n",
    "# Escribe varias expresiones de prueba para determinar si puedes ver el rayo de luz desde la tierra\n",
    "# Agrega las instrucciones que se ejecutarán si las expresiones de prueba son True o False"
   ]
  },
  {
   "cell_type": "code",
   "execution_count": null,
   "metadata": {},
   "outputs": [],
   "source": [
    "velAsteroide = 19\n",
    "\n",
    "if velAsteroide >= 20:\n",
    "    print(\"Busquen el asteroide en en cielo\")\n",
    "elif velAsteroide == 20:\n",
    "    print(\"Mantengase alertas.\")\n",
    "else:\n",
    "    print(\"Todo esta en calma\")"
   ]
  },
  {
   "cell_type": "markdown",
   "metadata": {},
   "source": [
    "##### Usando toda esta información, escribe un programa que emita la advertencia o información correcta a la gente de la Tierra, según la velocidad y el tamaño de un asteroide. Utiliza instrucciones if, else, y elif, así como los operadores and y or."
   ]
  },
  {
   "cell_type": "code",
   "execution_count": null,
   "metadata": {},
   "outputs": [],
   "source": [
    "# Agrega el código para crear nuevas variables para la velocidad y el tamaño del asteroide\n",
    "# Para probar el código, prueba con varias velocidades y tamaños\n",
    "# Escribe varias expresiones de prueba o combinaciones de expresiones de prueba para determinar qué mensaje se debe enviar a Tierra."
   ]
  },
  {
   "cell_type": "code",
   "execution_count": null,
   "metadata": {},
   "outputs": [],
   "source": [
    "tamAsteroide = 18\n",
    "velAsteroide\n",
    "\n",
    "if velAsteroide > 25 and (tamAsteroide > 25 or tamAsteroide < 1000):\n",
    "    print(\"¡Alerta, se aproxima un asteroide demasiado rápido que puede causar daño!\")\n",
    "elif velAsteroide >= 20:\n",
    "    print(\"Busquen el ateroide en el cielo\")\n",
    "else:\n",
    "    print(\"Continuen con sus actividades normales\")"
   ]
  },
  {
   "cell_type": "code",
   "execution_count": null,
   "metadata": {},
   "outputs": [],
   "source": [
    "tamAsteroide = 25\n",
    "velAsteroide\n",
    "\n",
    "if velAsteroide > 25 and (tamAsteroide > 25 or tamAsteroide < 1000):\n",
    "    print(\"¡Alerta, se aproxima un asteroide demasiado rápido que puede causar daño!\")\n",
    "elif velAsteroide >= 20:\n",
    "    print(\"Busquen el ateroide en el cielo\")\n",
    "else:\n",
    "    print(\"Continuen con sus actividades normales\")"
   ]
  },
  {
   "cell_type": "code",
   "execution_count": null,
   "metadata": {},
   "outputs": [],
   "source": [
    "tamAsteroide = 26\n",
    "velAsteroide\n",
    "\n",
    "if velAsteroide > 25 and (tamAsteroide > 25 or tamAsteroide < 1000):\n",
    "    print(\"¡Alerta, se aproxima un asteroide demasiado rápido que puede causar daño!\")\n",
    "elif velAsteroide >= 20:\n",
    "    print(\"Busquen el ateroide en el cielo\")\n",
    "else:\n",
    "    print(\"Continuen con sus actividades normales\")"
   ]
  },
  {
   "cell_type": "code",
   "execution_count": null,
   "metadata": {},
   "outputs": [],
   "source": [
    "tamAsteroide = 26\n",
    "velAsteroide\n",
    "\n",
    "if velAsteroide > 25 and (tamAsteroide > 25 or tamAsteroide < 1000):\n",
    "    print(\"¡Alerta, se aproxima un asteroide demasiado rápido que puede causar daño!\")\n",
    "elif velAsteroide >= 20:\n",
    "    print(\"Busquen el ateroide en el cielo\")\n",
    "else:\n",
    "    print(\"Continuen con sus actividades normales\")"
   ]
  },
  {
   "cell_type": "code",
   "execution_count": null,
   "metadata": {},
   "outputs": [],
   "source": [
    "tamAsteroide = 26\n",
    "velAsteroide = 0\n",
    "\n",
    "if velAsteroide > 25 and (tamAsteroide > 25 or tamAsteroide < 1000):\n",
    "    print(\"¡Alerta, se aproxima un asteroide demasiado rápido que puede causar daño!\")\n",
    "elif velAsteroide >= 20:\n",
    "    print(\"Busquen el ateroide en el cielo\")\n",
    "else:\n",
    "    print(\"Continuen con sus actividades normales\")"
   ]
  },
  {
   "cell_type": "code",
   "execution_count": null,
   "metadata": {},
   "outputs": [],
   "source": [
    "tamAsteroide = 1000\n",
    "velAsteroide = 0\n",
    "\n",
    "if velAsteroide > 25 and (tamAsteroide > 25 or tamAsteroide < 1000):\n",
    "    print(\"¡Alerta, se aproxima un asteroide demasiado rápido que puede causar daño!\")\n",
    "elif velAsteroide >= 20:\n",
    "    print(\"Busquen el ateroide en el cielo\")\n",
    "else:\n",
    "    print(\"Continuen con sus actividades normales\")"
   ]
  },
  {
   "cell_type": "code",
   "execution_count": null,
   "metadata": {},
   "outputs": [],
   "source": [
    "tamAsteroide = 1000\n",
    "velAsteroide = 25\n",
    "\n",
    "if velAsteroide > 25 and (tamAsteroide > 25 or tamAsteroide < 1000):\n",
    "    print(\"¡Alerta, se aproxima un asteroide demasiado rápido que puede causar daño!\")\n",
    "elif velAsteroide >= 20:\n",
    "    print(\"Busquen el ateroide en el cielo\")\n",
    "else:\n",
    "    print(\"Continuen con sus actividades normales\")"
   ]
  },
  {
   "cell_type": "code",
   "execution_count": null,
   "metadata": {},
   "outputs": [],
   "source": [
    "tamAsteroide = 1000\n",
    "velAsteroide = 25\n",
    "\n",
    "if velAsteroide > 25 and (tamAsteroide > 25 or tamAsteroide < 1000):\n",
    "    print(\"¡Alerta, se aproxima un asteroide demasiado rápido que puede causar daño!\")\n",
    "elif velAsteroide >= 20:\n",
    "    print(\"Busquen el asteroide en el cielo\")\n",
    "else:\n",
    "    print(\"Continuen con sus actividades normales\")"
   ]
  },
  {
   "cell_type": "code",
   "execution_count": null,
   "metadata": {},
   "outputs": [],
   "source": [
    "tamAsteroide = 1000\n",
    "velAsteroide = 26\n",
    "\n",
    "if velAsteroide > 25 and (tamAsteroide > 25 or tamAsteroide < 1000):\n",
    "    print(\"¡Alerta, se aproxima un asteroide demasiado rápido que puede causar daño!\")\n",
    "elif velAsteroide >= 20:\n",
    "    print(\"Busquen el asteroide en el cielo\")\n",
    "else:\n",
    "    print(\"Continuen con sus actividades normales\")"
   ]
  },
  {
   "cell_type": "code",
   "execution_count": null,
   "metadata": {},
   "outputs": [],
   "source": [
    "tamAsteroide = 18\n",
    "velAsteroide = 26\n",
    "\n",
    "if velAsteroide > 25 and (tamAsteroide > 25 or tamAsteroide < 1000):\n",
    "    print(\"¡Alerta, se aproxima un asteroide demasiado rápido que puede causar daño!\")\n",
    "elif velAsteroide >= 20:\n",
    "    print(\"Busquen el asteroide en el cielo\")\n",
    "else:\n",
    "    print(\"Continuen con sus actividades normales\")"
   ]
  },
  {
   "cell_type": "code",
   "execution_count": null,
   "metadata": {},
   "outputs": [],
   "source": [
    "tamAsteroide = 18\n",
    "velAsteroide = 26\n",
    "\n",
    "if velAsteroide > 25 and (tamAsteroide > 25 or tamAsteroide < 1000):\n",
    "    print(\"¡Alerta, se aproxima un asteroide demasiado rápido que puede causar daño!\")\n",
    "elif velAsteroide >= 20:\n",
    "    print(\"Busquen el asteroide en el cielo\")\n",
    "else:\n",
    "    print(\"Continuen con sus actividades normales\")"
   ]
  },
  {
   "cell_type": "code",
   "execution_count": null,
   "metadata": {},
   "outputs": [],
   "source": [
    "tamAsteroide = 18\n",
    "velAsteroide = 26\n",
    "\n",
    "if velAsteroide > 25 and (tamAsteroide > 25 or tamAsteroide < 1000):\n",
    "    print(\"¡Alerta, se aproxima un asteroide demasiado rápido que puede causar daño!\")\n",
    "elif velAsteroide >= 20:\n",
    "    print(\"Busquen el asteroide en el cielo\")\n",
    "else:\n",
    "    print(\"Continuen con sus actividades normales\")"
   ]
  },
  {
   "cell_type": "code",
   "execution_count": null,
   "metadata": {},
   "outputs": [],
   "source": [
    "tamAsteroide = 18\n",
    "velAsteroide = 26\n",
    "\n",
    "if velAsteroide > 25 and (tamAsteroide > 25 and tamAsteroide < 1000):\n",
    "    print(\"¡Alerta, se aproxima un asteroide demasiado rápido que puede causar daño!\")\n",
    "elif velAsteroide >= 20:\n",
    "    print(\"Busquen el asteroide en el cielo\")\n",
    "else:\n",
    "    print(\"Continuen con sus actividades normales\")"
   ]
  },
  {
   "cell_type": "code",
   "execution_count": null,
   "metadata": {},
   "outputs": [],
   "source": [
    "tamAsteroide = 26\n",
    "velAsteroide = 15\n",
    "\n",
    "if velAsteroide > 25 and (tamAsteroide > 25 and tamAsteroide < 1000):\n",
    "    print(\"¡Alerta, se aproxima un asteroide demasiado rápido que puede causar daño!\")\n",
    "elif velAsteroide >= 20:\n",
    "    print(\"Busquen el asteroide en el cielo\")\n",
    "else:\n",
    "    print(\"Continuen con sus actividades normales\")"
   ]
  },
  {
   "cell_type": "code",
   "execution_count": null,
   "metadata": {},
   "outputs": [],
   "source": [
    "tamAsteroide = 1000\n",
    "velAsteroide = 15\n",
    "\n",
    "if velAsteroide > 25 and (tamAsteroide > 25 and tamAsteroide < 1000):\n",
    "    print(\"¡Alerta, se aproxima un asteroide demasiado rápido que puede causar daño!\")\n",
    "elif velAsteroide >= 20:\n",
    "    print(\"Busquen el asteroide en el cielo\")\n",
    "else:\n",
    "    print(\"Continuen con sus actividades normales\")"
   ]
  },
  {
   "cell_type": "code",
   "execution_count": null,
   "metadata": {},
   "outputs": [],
   "source": [
    "tamAsteroide = 1000\n",
    "velAsteroide = 15\n",
    "\n",
    "if velAsteroide > 25 or (tamAsteroide > 25 and tamAsteroide < 1000):\n",
    "    print(\"¡Alerta, se aproxima un asteroide demasiado rápido que puede causar daño!\")\n",
    "elif velAsteroide >= 20:\n",
    "    print(\"Busquen el asteroide en el cielo\")\n",
    "else:\n",
    "    print(\"Continuen con sus actividades normales\")"
   ]
  },
  {
   "cell_type": "code",
   "execution_count": null,
   "metadata": {},
   "outputs": [],
   "source": [
    "tamAsteroide = 1000\n",
    "velAsteroide = 15\n",
    "\n",
    "if velAsteroide > 25 or (tamAsteroide > 25 and tamAsteroide < 1000):\n",
    "    print(\"¡Alerta, se aproxima un asteroide demasiado rápido que puede causar daño!\")\n",
    "elif velAsteroide >= 20:\n",
    "    print(\"Busquen el asteroide en el cielo\")\n",
    "else:\n",
    "    print(\"Continuen con sus actividades normales\")"
   ]
  },
  {
   "cell_type": "code",
   "execution_count": null,
   "metadata": {},
   "outputs": [],
   "source": [
    "tamAsteroide = 999\n",
    "velAsteroide = 15\n",
    "\n",
    "if velAsteroide > 25 or (tamAsteroide > 25 and tamAsteroide < 1000):\n",
    "    print(\"¡Alerta, se aproxima un asteroide demasiado rápido que puede causar daño!\")\n",
    "elif velAsteroide >= 20:\n",
    "    print(\"Busquen el asteroide en el cielo\")\n",
    "else:\n",
    "    print(\"Continuen con sus actividades normales\")"
   ]
  },
  {
   "cell_type": "code",
   "execution_count": null,
   "metadata": {},
   "outputs": [],
   "source": [
    "tamAsteroide = 999\n",
    "velAsteroide = 15\n",
    "\n",
    "if velAsteroide > 25 or (tamAsteroide > 25 and tamAsteroide < 1000):\n",
    "    print(\"¡Alerta, se aproxima un asteroide demasiado rápido que puede causar daño!\")\n",
    "elif velAsteroide >= 20:\n",
    "    print(\"Busquen el asteroide en el cielo\")\n",
    "elif tamAsteroide >=1000:\n",
    "    print(\"¡La Tierra dejará de existir!\")\n",
    "else:\n",
    "    print(\"Continuen con sus actividades normales\")"
   ]
  },
  {
   "cell_type": "code",
   "execution_count": null,
   "metadata": {},
   "outputs": [],
   "source": [
    "tamAsteroide = 1000\n",
    "velAsteroide = 15\n",
    "\n",
    "if velAsteroide > 25 or (tamAsteroide > 25 and tamAsteroide < 1000):\n",
    "    print(\"¡Alerta, se aproxima un asteroide demasiado rápido que puede causar daño!\")\n",
    "elif velAsteroide >= 20:\n",
    "    print(\"Busquen el asteroide en el cielo\")\n",
    "elif tamAsteroide >=1000:\n",
    "    print(\"¡La Tierra dejará de existir!\")\n",
    "else:\n",
    "    print(\"Continuen con sus actividades normales\")"
   ]
  },
  {
   "cell_type": "code",
   "execution_count": null,
   "metadata": {},
   "outputs": [],
   "source": [
    "tamAsteroide = 1000\n",
    "velAsteroide = 1\n",
    "\n",
    "\n",
    "if velAsteroide > 25 or (tamAsteroide > 25 and tamAsteroide < 1000):\n",
    "    print(\"¡Alerta, se aproxima un asteroide demasiado rápido que puede causar daño!\")\n",
    "elif velAsteroide >= 20:\n",
    "    print(\"Busquen el asteroide en el cielo\")\n",
    "elif tamAsteroide >=1000:\n",
    "    print(\"¡La Tierra dejará de existir!\")\n",
    "else:\n",
    "    print(\"Continuen con sus actividades normales\")"
   ]
  },
  {
   "cell_type": "code",
   "execution_count": null,
   "metadata": {},
   "outputs": [],
   "source": [
    "tamAsteroide = 999\n",
    "velAsteroide = 1\n",
    "\n",
    "\n",
    "if velAsteroide > 25 or (tamAsteroide > 25 and tamAsteroide < 1000):\n",
    "    print(\"¡Alerta, se aproxima un asteroide demasiado rápido que puede causar daño!\")\n",
    "elif velAsteroide >= 20:\n",
    "    print(\"Busquen el asteroide en el cielo\")\n",
    "elif tamAsteroide >=1000:\n",
    "    print(\"¡La Tierra dejará de existir!\")\n",
    "else:\n",
    "    print(\"Continuen con sus actividades normales\")"
   ]
  },
  {
   "cell_type": "code",
   "execution_count": null,
   "metadata": {},
   "outputs": [],
   "source": [
    "tamAsteroide = 25\n",
    "velAsteroide = 1\n",
    "\n",
    "\n",
    "if velAsteroide > 25 or (tamAsteroide > 25 and tamAsteroide < 1000):\n",
    "    print(\"¡Alerta, se aproxima un asteroide demasiado rápido que puede causar daño!\")\n",
    "elif velAsteroide >= 20:\n",
    "    print(\"Busquen el asteroide en el cielo\")\n",
    "elif tamAsteroide >=1000:\n",
    "    print(\"¡La Tierra dejará de existir!\")\n",
    "else:\n",
    "    print(\"Continuen con sus actividades normales\")"
   ]
  },
  {
   "cell_type": "code",
   "execution_count": null,
   "metadata": {},
   "outputs": [],
   "source": [
    "tamAsteroide = 26\n",
    "velAsteroide = 1\n",
    "\n",
    "\n",
    "if velAsteroide > 25 or (tamAsteroide > 25 and tamAsteroide < 1000):\n",
    "    print(\"¡Alerta, se aproxima un asteroide demasiado rápido que puede causar daño!\")\n",
    "elif velAsteroide >= 20:\n",
    "    print(\"Busquen el asteroide en el cielo\")\n",
    "elif tamAsteroide >=1000:\n",
    "    print(\"¡La Tierra dejará de existir!\")\n",
    "else:\n",
    "    print(\"Continuen con sus actividades normales\")"
   ]
  },
  {
   "cell_type": "code",
   "execution_count": null,
   "metadata": {},
   "outputs": [],
   "source": [
    "tamAsteroide = 18\n",
    "velAsteroide = 25\n",
    "\n",
    "\n",
    "if velAsteroide > 25 or (tamAsteroide > 25 and tamAsteroide < 1000):\n",
    "    print(\"¡Alerta, se aproxima un asteroide demasiado rápido que puede causar daño!\")\n",
    "elif velAsteroide >= 20:\n",
    "    print(\"Busquen el asteroide en el cielo\")\n",
    "elif tamAsteroide >=1000:\n",
    "    print(\"¡La Tierra dejará de existir!\")\n",
    "else:\n",
    "    print(\"Continuen con sus actividades normales\")"
   ]
  },
  {
   "cell_type": "code",
   "execution_count": null,
   "metadata": {},
   "outputs": [],
   "source": [
    "tamAsteroide = 18\n",
    "velAsteroide = 19\n",
    "\n",
    "\n",
    "if velAsteroide > 25 or (tamAsteroide > 25 and tamAsteroide < 1000):\n",
    "    print(\"¡Alerta, se aproxima un asteroide demasiado rápido que puede causar daño!\")\n",
    "elif velAsteroide >= 20:\n",
    "    print(\"Busquen el asteroide en el cielo\")\n",
    "elif tamAsteroide >=1000:\n",
    "    print(\"¡La Tierra dejará de existir!\")\n",
    "else:\n",
    "    print(\"Continuen con sus actividades normales\")"
   ]
  },
  {
   "cell_type": "code",
   "execution_count": null,
   "metadata": {},
   "outputs": [],
   "source": [
    "tamAsteroide = 18\n",
    "velAsteroide = 20\n",
    "\n",
    "\n",
    "if velAsteroide > 25 or (tamAsteroide > 25 and tamAsteroide < 1000):\n",
    "    print(\"¡Alerta, se aproxima un asteroide demasiado rápido que puede causar daño!\")\n",
    "elif velAsteroide >= 20:\n",
    "    print(\"Busquen el asteroide en el cielo\")\n",
    "elif tamAsteroide >=1000:\n",
    "    print(\"¡La Tierra dejará de existir!\")\n",
    "else:\n",
    "    print(\"Continuen con sus actividades normales\")"
   ]
  },
  {
   "cell_type": "code",
   "execution_count": null,
   "metadata": {},
   "outputs": [],
   "source": [
    "tamAsteroide = 18\n",
    "velAsteroide = 21\n",
    "\n",
    "\n",
    "if velAsteroide > 25 or (tamAsteroide > 25 and tamAsteroide < 1000):\n",
    "    print(\"¡Alerta, se aproxima un asteroide demasiado rápido que puede causar daño!\")\n",
    "elif velAsteroide >= 20:\n",
    "    print(\"Busquen el asteroide en el cielo\")\n",
    "elif tamAsteroide >=1000:\n",
    "    print(\"¡La Tierra dejará de existir!\")\n",
    "else:\n",
    "    print(\"Continuen con sus actividades normales\")"
   ]
  },
  {
   "cell_type": "code",
   "execution_count": null,
   "metadata": {},
   "outputs": [],
   "source": [
    "tamAsteroide = 18\n",
    "velAsteroide = 26\n",
    "\n",
    "\n",
    "if velAsteroide > 25 or (tamAsteroide > 25 and tamAsteroide < 1000):\n",
    "    print(\"¡Alerta, se aproxima un asteroide demasiado rápido que puede causar daño!\")\n",
    "elif velAsteroide >= 20:\n",
    "    print(\"Busquen el asteroide en el cielo\")\n",
    "elif tamAsteroide >=1000:\n",
    "    print(\"¡La Tierra dejará de existir!\")\n",
    "else:\n",
    "    print(\"Continuen con sus actividades normales\")"
   ]
  },
  {
   "cell_type": "code",
   "execution_count": null,
   "metadata": {},
   "outputs": [],
   "source": [
    "tamAsteroide = 18\n",
    "velAsteroide = 25\n",
    "\n",
    "\n",
    "if velAsteroide > 25 or (tamAsteroide > 25 and tamAsteroide < 1000):\n",
    "    print(\"¡Alerta, se aproxima un asteroide demasiado rápido que puede causar daño!\")\n",
    "elif velAsteroide >= 20:\n",
    "    print(\"Busquen el asteroide en el cielo\")\n",
    "elif tamAsteroide >=1000:\n",
    "    print(\"¡La Tierra dejará de existir!\")\n",
    "else:\n",
    "    print(\"Continuen con sus actividades normales\")"
   ]
  },
  {
   "cell_type": "code",
   "execution_count": null,
   "metadata": {},
   "outputs": [],
   "source": [
    "tamAsteroide = 18\n",
    "velAsteroide = 26\n",
    "\n",
    "\n",
    "if velAsteroide > 25 or (tamAsteroide > 25 and tamAsteroide < 1000):\n",
    "    print(\"¡Alerta, se aproxima un asteroide demasiado rápido que puede causar daño!\")\n",
    "elif velAsteroide >= 20:\n",
    "    print(\"Busquen el asteroide en el cielo\")\n",
    "elif tamAsteroide >=1000:\n",
    "    print(\"¡La Tierra dejará de existir!\")\n",
    "else:\n",
    "    print(\"Continuen con sus actividades normales\")"
   ]
  }
 ],
 "metadata": {
  "interpreter": {
   "hash": "57e20b02525b129d2f379a8b64eb897bd057ce6c51907dd6e6ea43d3d0532e53"
  },
  "kernelspec": {
   "display_name": "Python 3.10.0 64-bit",
   "language": "python",
   "name": "python3"
  },
  "language_info": {
   "codemirror_mode": {
    "name": "ipython",
    "version": 3
   },
   "file_extension": ".py",
   "mimetype": "text/x-python",
   "name": "python",
   "nbconvert_exporter": "python",
   "pygments_lexer": "ipython3",
   "version": "3.10.0"
  },
  "orig_nbformat": 4
 },
 "nbformat": 4,
 "nbformat_minor": 2
}
